{
  "nbformat": 4,
  "nbformat_minor": 0,
  "metadata": {
    "colab": {
      "provenance": []
    },
    "kernelspec": {
      "name": "python3",
      "display_name": "Python 3"
    },
    "language_info": {
      "name": "python"
    }
  },
  "cells": [
    {
      "cell_type": "markdown",
      "source": [
        "### Q1: Python program to check whether the string is Symmetrical or Palindrome"
      ],
      "metadata": {
        "id": "E0XuGw6H_VFI"
      }
    },
    {
      "cell_type": "code",
      "execution_count": null,
      "metadata": {
        "id": "oY9Oxi4n9v0S"
      },
      "outputs": [],
      "source": [
        "#Please input your code in the designated field below.\n"
      ]
    },
    {
      "cell_type": "markdown",
      "source": [
        "### Q2: ReverseWords in a Given String in Python"
      ],
      "metadata": {
        "id": "tQwJ7KVa_cq2"
      }
    },
    {
      "cell_type": "code",
      "source": [
        "#Please input your code in the designated field below.\n"
      ],
      "metadata": {
        "id": "1XGyKqj9_fBe"
      },
      "execution_count": null,
      "outputs": []
    },
    {
      "cell_type": "markdown",
      "source": [
        "### Q3: How to Remove Letters From a String in Python"
      ],
      "metadata": {
        "id": "62iUaPuD_fQW"
      }
    },
    {
      "cell_type": "code",
      "source": [
        "#Please input your code in the designated field below.\n"
      ],
      "metadata": {
        "id": "FW0QC2GJ_s7o"
      },
      "execution_count": null,
      "outputs": []
    },
    {
      "cell_type": "markdown",
      "source": [
        "### Q4: Find length of a string in python"
      ],
      "metadata": {
        "id": "2Z9ujqZC_t6A"
      }
    },
    {
      "cell_type": "code",
      "source": [
        "#Please input your code in the designated field below.\n"
      ],
      "metadata": {
        "id": "UEuPKZoB_wE_"
      },
      "execution_count": null,
      "outputs": []
    },
    {
      "cell_type": "markdown",
      "source": [
        "### Q5: Python – Avoid Spaces in string length"
      ],
      "metadata": {
        "id": "3IJR4XiW_x8Q"
      }
    },
    {
      "cell_type": "code",
      "source": [
        "#Please input your code in the designated field below.\n"
      ],
      "metadata": {
        "id": "DMHK2EYO_0z4"
      },
      "execution_count": null,
      "outputs": []
    },
    {
      "cell_type": "markdown",
      "source": [
        "### Q6: Python program to print even length words in a string"
      ],
      "metadata": {
        "id": "9tYqllqU_2Nu"
      }
    },
    {
      "cell_type": "code",
      "source": [
        "#Please input your code in the designated field below.\n"
      ],
      "metadata": {
        "id": "r7vop0Vn_4b5"
      },
      "execution_count": null,
      "outputs": []
    },
    {
      "cell_type": "markdown",
      "source": [
        "### Q7: Python – Uppercase Half String"
      ],
      "metadata": {
        "id": "VWYmYc0T_50G"
      }
    },
    {
      "cell_type": "code",
      "source": [
        "#Please input your code in the designated field below.\n"
      ],
      "metadata": {
        "id": "35A6PsqY_8p_"
      },
      "execution_count": null,
      "outputs": []
    },
    {
      "cell_type": "markdown",
      "source": [
        "### Q8:Python program to capitalize the first and last character of each word in a string"
      ],
      "metadata": {
        "id": "dVK3vONM_99x"
      }
    },
    {
      "cell_type": "code",
      "source": [
        "#Please input your code in the designated field below.\n"
      ],
      "metadata": {
        "id": "a-mpjzRbAAi-"
      },
      "execution_count": null,
      "outputs": []
    },
    {
      "cell_type": "markdown",
      "source": [
        "### Q9: Python program to check if a string has at least one letter and one number"
      ],
      "metadata": {
        "id": "8GMvm8-nABgf"
      }
    },
    {
      "cell_type": "code",
      "source": [
        "#Please input your code in the designated field below.\n"
      ],
      "metadata": {
        "id": "Z36xNHCSADmJ"
      },
      "execution_count": null,
      "outputs": []
    },
    {
      "cell_type": "markdown",
      "source": [
        "### Q10: Python Program to Accept the Strings Which Contains all Vowels"
      ],
      "metadata": {
        "id": "SRLIJjPPAGOI"
      }
    },
    {
      "cell_type": "code",
      "source": [
        "#Please input your code in the designated field below.\n"
      ],
      "metadata": {
        "id": "Ty3XcxrjAI__"
      },
      "execution_count": null,
      "outputs": []
    },
    {
      "cell_type": "markdown",
      "source": [
        "### Q11: Python — Count the Number of matching characters in a pair of string"
      ],
      "metadata": {
        "id": "kAUQvZ7vAJzB"
      }
    },
    {
      "cell_type": "code",
      "source": [
        "#Please input your code in the designated field below.\n"
      ],
      "metadata": {
        "id": "GEE9L7RBAMH4"
      },
      "execution_count": null,
      "outputs": []
    },
    {
      "cell_type": "markdown",
      "source": [
        "### Q12: Python program to count number of vowels using sets in given string"
      ],
      "metadata": {
        "id": "BbXvW5S5AM8f"
      }
    },
    {
      "cell_type": "code",
      "source": [
        "#Please input your code in the designated field below.\n"
      ],
      "metadata": {
        "id": "5mZTj4J4APe6"
      },
      "execution_count": null,
      "outputs": []
    },
    {
      "cell_type": "markdown",
      "source": [
        "### Q13: Remove all duplicates from a given string in Python"
      ],
      "metadata": {
        "id": "h9hHeGQfAQsJ"
      }
    },
    {
      "cell_type": "code",
      "source": [
        "#Please input your code in the designated field below.\n"
      ],
      "metadata": {
        "id": "y898YV_cASOx"
      },
      "execution_count": null,
      "outputs": []
    },
    {
      "cell_type": "markdown",
      "source": [
        "### Q14: Python – Specific Characters Frequency in String List"
      ],
      "metadata": {
        "id": "dOAEmXK2ATd4"
      }
    },
    {
      "cell_type": "code",
      "source": [
        "#Please input your code in the designated field below.\n"
      ],
      "metadata": {
        "id": "KgIjn-ibAU9f"
      },
      "execution_count": null,
      "outputs": []
    },
    {
      "cell_type": "markdown",
      "source": [
        "### Q15: Program to check if a string contains any special character"
      ],
      "metadata": {
        "id": "mOkk-bJuAWDY"
      }
    },
    {
      "cell_type": "code",
      "source": [
        "#Please input your code in the designated field below.\n"
      ],
      "metadata": {
        "id": "w_q3VRwCAX-p"
      },
      "execution_count": null,
      "outputs": []
    },
    {
      "cell_type": "markdown",
      "source": [
        "### Q16: Generating random strings until a given string is generated"
      ],
      "metadata": {
        "id": "a07cuEalAZwR"
      }
    },
    {
      "cell_type": "code",
      "source": [
        "#Please input your code in the designated field below.\n"
      ],
      "metadata": {
        "id": "TpRZEs3NAdIB"
      },
      "execution_count": null,
      "outputs": []
    },
    {
      "cell_type": "markdown",
      "source": [
        "### Q17: Find words which are greater than given length k"
      ],
      "metadata": {
        "id": "IPI9YY_TAdsI"
      }
    },
    {
      "cell_type": "code",
      "source": [
        "#Please input your code in the designated field below.\n"
      ],
      "metadata": {
        "id": "HglU8yXiAfom"
      },
      "execution_count": null,
      "outputs": []
    },
    {
      "cell_type": "markdown",
      "source": [
        "### Q18: Python program for removing i-th character from a string"
      ],
      "metadata": {
        "id": "g6_auarKAguA"
      }
    },
    {
      "cell_type": "code",
      "source": [
        "#Please input your code in the designated field below.\n"
      ],
      "metadata": {
        "id": "zw47NNgvAiam"
      },
      "execution_count": null,
      "outputs": []
    },
    {
      "cell_type": "markdown",
      "source": [
        "### Q19: Python program to split and join a string"
      ],
      "metadata": {
        "id": "DBed7PWnAkXw"
      }
    },
    {
      "cell_type": "code",
      "source": [
        "#Please input your code in the designated field below.\n"
      ],
      "metadata": {
        "id": "8IGHiMfFAl_o"
      },
      "execution_count": null,
      "outputs": []
    },
    {
      "cell_type": "markdown",
      "source": [
        "### Q20: Python— Check if a given string is binary string or not"
      ],
      "metadata": {
        "id": "BMTiUh2RAm-v"
      }
    },
    {
      "cell_type": "code",
      "source": [
        "#Please input your code in the designated field below.\n"
      ],
      "metadata": {
        "id": "55ocE-jNAps2"
      },
      "execution_count": null,
      "outputs": []
    },
    {
      "cell_type": "markdown",
      "source": [
        "### Q21: Python— Find all close matches of input string from a list"
      ],
      "metadata": {
        "id": "yWrzw6KaAqLm"
      }
    },
    {
      "cell_type": "code",
      "source": [
        "#Please input your code in the designated field below.\n"
      ],
      "metadata": {
        "id": "K98JuaH-AsEQ"
      },
      "execution_count": null,
      "outputs": []
    },
    {
      "cell_type": "markdown",
      "source": [
        "### Q22: Python program to find uncommon words from two Strings"
      ],
      "metadata": {
        "id": "g5FchwVbAtcJ"
      }
    },
    {
      "cell_type": "code",
      "source": [
        "#Please input your code in the designated field below.\n"
      ],
      "metadata": {
        "id": "79m63mwGAvS3"
      },
      "execution_count": null,
      "outputs": []
    },
    {
      "cell_type": "markdown",
      "source": [
        "### Q23: Python— Swap commas and dots in a String"
      ],
      "metadata": {
        "id": "FScU0XZcAv_B"
      }
    },
    {
      "cell_type": "code",
      "source": [
        "#Please input your code in the designated field below.\n"
      ],
      "metadata": {
        "id": "4sJOgNuMAxrQ"
      },
      "execution_count": null,
      "outputs": []
    },
    {
      "cell_type": "markdown",
      "source": [
        "### Q24: Python—Permutation of a given string using inbuilt function"
      ],
      "metadata": {
        "id": "H3QGZ_5vAyoY"
      }
    },
    {
      "cell_type": "code",
      "source": [
        "#Please input your code in the designated field below.\n"
      ],
      "metadata": {
        "id": "ynSM7O7uA02f"
      },
      "execution_count": null,
      "outputs": []
    }
  ]
}