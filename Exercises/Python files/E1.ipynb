{
  "cells": [
    {
      "cell_type": "code",
      "execution_count": null,
      "metadata": {
        "id": "TydYdFHFNFyo"
      },
      "outputs": [],
      "source": [
        "!pip install jupyterquiz"
      ]
    },
    {
      "cell_type": "code",
      "execution_count": null,
      "metadata": {
        "id": "wGp2atkSNG9W"
      },
      "outputs": [],
      "source": [
        "url_E1Json = 'https://raw.githubusercontent.com/Mohammadimh76/Python_class_Kurdistan/Kurdistan-02/Exercises/jsons/E1.json'"
      ]
    },
    {
      "cell_type": "code",
      "execution_count": null,
      "metadata": {
        "id": "KLjDDrwINEE3"
      },
      "outputs": [],
      "source": [
        "from jupyterquiz import display_quiz\n",
        "\n",
        "display_quiz(url_E1Json)"
      ]
    }
  ],
  "metadata": {
    "colab": {
      "provenance": []
    },
    "kernelspec": {
      "display_name": "Python 3",
      "name": "python3"
    },
    "language_info": {
      "name": "python"
    }
  },
  "nbformat": 4,
  "nbformat_minor": 0
}
